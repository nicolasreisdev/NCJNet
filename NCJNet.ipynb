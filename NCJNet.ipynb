{
 "cells": [
  {
   "cell_type": "markdown",
   "id": "fdeac1cd",
   "metadata": {},
   "source": [
    "## Sumário:\n",
    "- EDA \n",
    "- Treinamento\n",
    "- Validação\n",
    "\n",
    "## Objetivo\n",
    "NCJNet é um modelo preditivo que visa sugerir cursos para o usuário, a predição é feito sob análise de notas e preferência do usuário."
   ]
  },
  {
   "cell_type": "markdown",
   "id": "1d7fad87",
   "metadata": {},
   "source": [
    "## Configuração do Ambiente\n",
    "É necessário o ambiente virtual para o funcionamento, para isso, realize os seguintes comandos no terminal\n",
    "- /NCJNet$ pipenv shell\n",
    "- /NCJNet$ pipenv install\n",
    "\n",
    "Após isso, o ambiente está configurado com todas as bibliotecas necessárias. Para verificar, compile o código a baixo."
   ]
  },
  {
   "cell_type": "code",
   "execution_count": null,
   "id": "a15272eb",
   "metadata": {},
   "outputs": [],
   "source": [
    "#import matplotlib.pyplot as plt\n",
    "#import numpy as np\n",
    "#import pandas as pd\n",
    "#import seaborn as sns\n",
    "#from sklearn.metrics import r2_score, mean_absolute_error, mean_squared_error\n",
    "\n",
    "# Todas as bibliotecas são necessárias para a compilação"
   ]
  },
  {
   "cell_type": "markdown",
   "id": "d524caa7",
   "metadata": {},
   "source": [
    "# EDA"
   ]
  },
  {
   "cell_type": "code",
   "execution_count": 1,
   "id": "27775298",
   "metadata": {},
   "outputs": [],
   "source": [
    "import pandas as pd"
   ]
  },
  {
   "cell_type": "markdown",
   "id": "a317f2a4",
   "metadata": {},
   "source": [
    "## Criar DataFrames dos Datasets "
   ]
  },
  {
   "cell_type": "code",
   "execution_count": 6,
   "id": "30f16546",
   "metadata": {},
   "outputs": [
    {
     "data": {
      "text/html": [
       "<div>\n",
       "<style scoped>\n",
       "    .dataframe tbody tr th:only-of-type {\n",
       "        vertical-align: middle;\n",
       "    }\n",
       "\n",
       "    .dataframe tbody tr th {\n",
       "        vertical-align: top;\n",
       "    }\n",
       "\n",
       "    .dataframe thead th {\n",
       "        text-align: right;\n",
       "    }\n",
       "</style>\n",
       "<table border=\"1\" class=\"dataframe\">\n",
       "  <thead>\n",
       "    <tr style=\"text-align: right;\">\n",
       "      <th></th>\n",
       "      <th>Identificador;\"Codigo externo do registro\";Etapa;\"Data da criacao\";\"Momento do ultimo ganho\";\"Momento da ultima perda\";\"Na mesma etapa desde\";\"Codigo - Oferta de curso\";\"Nome - Oferta de curso\";\"Identificador da pessoa\";\"Codigo externo da pessoa\";\"Nome da pessoa\";\"Nome do responsavel\";Atividade;\"E-mail da pessoa\";\"E-mails secundarios\";\"Telefone da pessoa\";\"Telefones secundarios\";CPF;\"Data de nascimento\";\"Valor da oportunidade\";\"Data da atividade\";\"Forma de ingresso\";\"Grau de instrucao\";\"Escola de origem\";\"Nota do ENEM\";\"Processo seletivo\";Unidade;Modalidade;Status;\"Local da oferta\";Canal;\"Resumo atual\";Objecao;\"Observacoes da perda\";Endereco;Numero;Bairro;Cidade;UF;Concorrentes;Probabilidade;\"[AE] Situacao de matricula\";\"[AE] % de nota geral\";\"[AE] % de frequencia geral\";\"[AE] Satisfacao\";\"[AE] Qtd de lancamentos Vencidos\"</th>\n",
       "    </tr>\n",
       "  </thead>\n",
       "  <tbody>\n",
       "    <tr>\n",
       "      <th>0</th>\n",
       "      <td>19;\"- - -\";Egressos;\"28/03/2025 15:11\";\"- - -\"...</td>\n",
       "    </tr>\n",
       "    <tr>\n",
       "      <th>1</th>\n",
       "      <td>18;\"- - -\";\"Em Alerta\";\"28/03/2025 15:11\";\"- -...</td>\n",
       "    </tr>\n",
       "    <tr>\n",
       "      <th>2</th>\n",
       "      <td>17;\"- - -\";\"Em Alerta\";\"28/03/2025 15:11\";\"- -...</td>\n",
       "    </tr>\n",
       "    <tr>\n",
       "      <th>3</th>\n",
       "      <td>16;\"- - -\";\"Alunos Regulares\";\"28/03/2025 15:1...</td>\n",
       "    </tr>\n",
       "    <tr>\n",
       "      <th>4</th>\n",
       "      <td>15;\"- - -\";Egressos;\"28/03/2025 15:11\";\"- - -\"...</td>\n",
       "    </tr>\n",
       "  </tbody>\n",
       "</table>\n",
       "</div>"
      ],
      "text/plain": [
       "  Identificador;\"Codigo externo do registro\";Etapa;\"Data da criacao\";\"Momento do ultimo ganho\";\"Momento da ultima perda\";\"Na mesma etapa desde\";\"Codigo - Oferta de curso\";\"Nome - Oferta de curso\";\"Identificador da pessoa\";\"Codigo externo da pessoa\";\"Nome da pessoa\";\"Nome do responsavel\";Atividade;\"E-mail da pessoa\";\"E-mails secundarios\";\"Telefone da pessoa\";\"Telefones secundarios\";CPF;\"Data de nascimento\";\"Valor da oportunidade\";\"Data da atividade\";\"Forma de ingresso\";\"Grau de instrucao\";\"Escola de origem\";\"Nota do ENEM\";\"Processo seletivo\";Unidade;Modalidade;Status;\"Local da oferta\";Canal;\"Resumo atual\";Objecao;\"Observacoes da perda\";Endereco;Numero;Bairro;Cidade;UF;Concorrentes;Probabilidade;\"[AE] Situacao de matricula\";\"[AE] % de nota geral\";\"[AE] % de frequencia geral\";\"[AE] Satisfacao\";\"[AE] Qtd de lancamentos Vencidos\"\n",
       "0  19;\"- - -\";Egressos;\"28/03/2025 15:11\";\"- - -\"...                                                                                                                                                                                                                                                                                                                                                                                                                                                                                                                                                                                                                                                                                                                                                                                                                \n",
       "1  18;\"- - -\";\"Em Alerta\";\"28/03/2025 15:11\";\"- -...                                                                                                                                                                                                                                                                                                                                                                                                                                                                                                                                                                                                                                                                                                                                                                                                                \n",
       "2  17;\"- - -\";\"Em Alerta\";\"28/03/2025 15:11\";\"- -...                                                                                                                                                                                                                                                                                                                                                                                                                                                                                                                                                                                                                                                                                                                                                                                                                \n",
       "3  16;\"- - -\";\"Alunos Regulares\";\"28/03/2025 15:1...                                                                                                                                                                                                                                                                                                                                                                                                                                                                                                                                                                                                                                                                                                                                                                                                                \n",
       "4  15;\"- - -\";Egressos;\"28/03/2025 15:11\";\"- - -\"...                                                                                                                                                                                                                                                                                                                                                                                                                                                                                                                                                                                                                                                                                                                                                                                                                "
      ]
     },
     "execution_count": 6,
     "metadata": {},
     "output_type": "execute_result"
    }
   ],
   "source": [
    "# Carregar DataFrame de clientes (customers.csv)\n",
    "df_customers = pd.read_csv('./datasets/RegistrosRubeusAcompanhamento.csv') # leitura dos dados do csv\n",
    "\n",
    "# visualizar os dados dos 5 primeiros clientes\n",
    "df_customers.head(5)"
   ]
  },
  {
   "cell_type": "code",
   "execution_count": 7,
   "id": "e27edf35",
   "metadata": {},
   "outputs": [
    {
     "name": "stdout",
     "output_type": "stream",
     "text": [
      "<class 'pandas.core.frame.DataFrame'>\n",
      "RangeIndex: 8 entries, 0 to 7\n",
      "Data columns (total 1 columns):\n",
      " #   Column                                                                                                                                                                                                                                                                                                                                                                                                                                                                                                                                                                                                                                                                                                                                                                                                                                                              Non-Null Count  Dtype \n",
      "---  ------                                                                                                                                                                                                                                                                                                                                                                                                                                                                                                                                                                                                                                                                                                                                                                                                                                                              --------------  ----- \n",
      " 0   Identificador;\"Codigo externo do registro\";Etapa;\"Data da criacao\";\"Momento do ultimo ganho\";\"Momento da ultima perda\";\"Na mesma etapa desde\";\"Codigo - Oferta de curso\";\"Nome - Oferta de curso\";\"Identificador da pessoa\";\"Codigo externo da pessoa\";\"Nome da pessoa\";\"Nome do responsavel\";Atividade;\"E-mail da pessoa\";\"E-mails secundarios\";\"Telefone da pessoa\";\"Telefones secundarios\";CPF;\"Data de nascimento\";\"Valor da oportunidade\";\"Data da atividade\";\"Forma de ingresso\";\"Grau de instrucao\";\"Escola de origem\";\"Nota do ENEM\";\"Processo seletivo\";Unidade;Modalidade;Status;\"Local da oferta\";Canal;\"Resumo atual\";Objecao;\"Observacoes da perda\";Endereco;Numero;Bairro;Cidade;UF;Concorrentes;Probabilidade;\"[AE] Situacao de matricula\";\"[AE] % de nota geral\";\"[AE] % de frequencia geral\";\"[AE] Satisfacao\";\"[AE] Qtd de lancamentos Vencidos\"  8 non-null      object\n",
      "dtypes: object(1)\n",
      "memory usage: 196.0+ bytes\n"
     ]
    }
   ],
   "source": [
    "# Mostrar estrutura / schema do DataFrame\n",
    "df_customers.info()"
   ]
  },
  {
   "cell_type": "markdown",
   "id": "d4b1faf2",
   "metadata": {},
   "source": [
    "## Transformação dos dados"
   ]
  }
 ],
 "metadata": {
  "kernelspec": {
   "display_name": "NCJNet-xGDSlkFY",
   "language": "python",
   "name": "python3"
  },
  "language_info": {
   "codemirror_mode": {
    "name": "ipython",
    "version": 3
   },
   "file_extension": ".py",
   "mimetype": "text/x-python",
   "name": "python",
   "nbconvert_exporter": "python",
   "pygments_lexer": "ipython3",
   "version": "3.11.5"
  }
 },
 "nbformat": 4,
 "nbformat_minor": 5
}
