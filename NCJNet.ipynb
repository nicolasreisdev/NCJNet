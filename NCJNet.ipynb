{
 "cells": [
  {
   "cell_type": "markdown",
   "id": "fdeac1cd",
   "metadata": {},
   "source": [
    "## Sumário:\n",
    "- EDA \n",
    "- Treinamento\n",
    "- Validação\n",
    "\n",
    "## Objetivo\n",
    "NCJNet é um modelo preditivo que visa sugerir cursos para o usuário, a predição é feito sob análise de notas e preferência do usuário."
   ]
  },
  {
   "cell_type": "markdown",
   "id": "1d7fad87",
   "metadata": {},
   "source": [
    "## Configuração do Ambiente\n",
    "É necessário o ambiente virtual para o funcionamento, para isso, realize os seguintes comandos no terminal\n",
    "- /NCJNet$ pipenv shell\n",
    "- /NCJNet$ pipenv install\n",
    "\n",
    "Após isso, o ambiente está configurado com todas as bibliotecas necessárias. Para verificar, compile o código a baixo."
   ]
  },
  {
   "cell_type": "code",
   "execution_count": null,
   "id": "a15272eb",
   "metadata": {
    "vscode": {
     "languageId": "plaintext"
    }
   },
   "outputs": [],
   "source": [
    "#import matplotlib.pyplot as plt\n",
    "#import numpy as np\n",
    "#import pandas as pd\n",
    "#import seaborn as sns\n",
    "#from sklearn.metrics import r2_score, mean_absolute_error, mean_squared_error\n",
    "\n",
    "# Todas as bibliotecas são necessárias para a compilação"
   ]
  }
 ],
 "metadata": {
  "language_info": {
   "name": "python"
  }
 },
 "nbformat": 4,
 "nbformat_minor": 5
}
